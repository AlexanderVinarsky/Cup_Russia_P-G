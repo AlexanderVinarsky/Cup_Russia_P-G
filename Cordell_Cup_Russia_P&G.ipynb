{
  "nbformat": 4,
  "nbformat_minor": 0,
  "metadata": {
    "colab": {
      "provenance": [],
      "include_colab_link": true
    },
    "kernelspec": {
      "name": "python3",
      "display_name": "Python 3"
    },
    "language_info": {
      "name": "python"
    }
  },
  "cells": [
    {
      "cell_type": "markdown",
      "metadata": {
        "id": "view-in-github",
        "colab_type": "text"
      },
      "source": [
        "<a href=\"https://colab.research.google.com/github/AlexanderVinarsky/Cup_Russia_P-G/blob/main/Cordell_Cup_Russia_P%26G.ipynb\" target=\"_parent\"><img src=\"https://colab.research.google.com/assets/colab-badge.svg\" alt=\"Open In Colab\"/></a>"
      ]
    },
    {
      "cell_type": "code",
      "execution_count": 33,
      "metadata": {
        "id": "BHKrNdbC19CG",
        "colab": {
          "base_uri": "https://localhost:8080/"
        },
        "outputId": "8a03f22d-35c7-496f-8b68-471333161cf1"
      },
      "outputs": [
        {
          "output_type": "stream",
          "name": "stdout",
          "text": [
            "Drive already mounted at /content/drive; to attempt to forcibly remount, call drive.mount(\"/content/drive\", force_remount=True).\n"
          ]
        }
      ],
      "source": [
        "from google.colab import drive\n",
        "drive.mount('/content/drive')"
      ]
    },
    {
      "cell_type": "code",
      "source": [
        "import numpy as np\n",
        "import pandas as pd\n",
        "\n",
        "df = pd.read_csv('drive/MyDrive/PG_dataset.csv')\n",
        "df.fillna(0.0, inplace=True)\n",
        "#df = df.drop(columns='Item')"
      ],
      "metadata": {
        "id": "fqUornWG4DFh"
      },
      "execution_count": 221,
      "outputs": []
    },
    {
      "cell_type": "code",
      "source": [
        "#df= df[df.columns.values.tolist()].replace({',':''}, regex=True)"
      ],
      "metadata": {
        "id": "WcoZ8L7qQ1cE"
      },
      "execution_count": 222,
      "outputs": []
    },
    {
      "cell_type": "code",
      "source": [
        "cheap_products = ['3 EFFECT DELICATE WHITE', '3 EFFECT MAXI CLEAN', '3 EFFECT NATURAL FRESH', \n",
        " 'CLASSIC', 'CLEAN FRESH STRONG 1-2-3', 'COLORS', 'CROSS ACTION', \n",
        " 'CROSS ACTION VITALIZER', 'EXPERT COMPLETE 7', 'GENTLE CARE', 'KIDS', \n",
        " 'MICKEY MOUSE', 'VISION']\n",
        "res=[]\n",
        "for product in cheap_products:\n",
        "  for i in range(len(df[df.columns[4]])):\n",
        "    if (product == df[df.columns[4]][i]):\n",
        "      res.append(df.loc[i])\n",
        "\n",
        "res = pd.DataFrame(res)\n",
        "res = res.drop(res.iloc[:, 6:35],axis = 1)\n",
        "res = res.drop(res.iloc[:, 7:17],axis = 1)\n",
        "res = res.drop(res.iloc[:, 3:4],axis = 1)\n",
        "res = res.drop(res.iloc[:, 4:5],axis = 1)\n",
        "\n",
        "res = res[(res != 0).all(1)]\n",
        "\n",
        "res = res[res['JAN-JUN 2020.8'] >=5]\n",
        "res = res[res['JUL-DEC 2020.8'] >=5] \n",
        "res = res[res['JAN-JUN 2021.8'] >=5] \n",
        "res = res[res['JUL-DEC 2021.8'] >=5] \n",
        "res = res[res['JAN-JUN 2022.8'] >=5]\n",
        "res = res[res['Brand'] == 'ORAL B']"
      ],
      "metadata": {
        "id": "VFmilHGCO_gO"
      },
      "execution_count": 223,
      "outputs": []
    },
    {
      "cell_type": "code",
      "source": [
        "from google.colab import files\n",
        "res.to_csv('output.csv', encoding = 'utf-8-sig') \n",
        "files.download('output.csv')"
      ],
      "metadata": {
        "colab": {
          "base_uri": "https://localhost:8080/",
          "height": 17
        },
        "id": "J6FfWb36Wsrk",
        "outputId": "cd6d2e04-24df-469c-db29-be2d213b77b1"
      },
      "execution_count": 224,
      "outputs": [
        {
          "output_type": "display_data",
          "data": {
            "text/plain": [
              "<IPython.core.display.Javascript object>"
            ],
            "application/javascript": [
              "\n",
              "    async function download(id, filename, size) {\n",
              "      if (!google.colab.kernel.accessAllowed) {\n",
              "        return;\n",
              "      }\n",
              "      const div = document.createElement('div');\n",
              "      const label = document.createElement('label');\n",
              "      label.textContent = `Downloading \"${filename}\": `;\n",
              "      div.appendChild(label);\n",
              "      const progress = document.createElement('progress');\n",
              "      progress.max = size;\n",
              "      div.appendChild(progress);\n",
              "      document.body.appendChild(div);\n",
              "\n",
              "      const buffers = [];\n",
              "      let downloaded = 0;\n",
              "\n",
              "      const channel = await google.colab.kernel.comms.open(id);\n",
              "      // Send a message to notify the kernel that we're ready.\n",
              "      channel.send({})\n",
              "\n",
              "      for await (const message of channel.messages) {\n",
              "        // Send a message to notify the kernel that we're ready.\n",
              "        channel.send({})\n",
              "        if (message.buffers) {\n",
              "          for (const buffer of message.buffers) {\n",
              "            buffers.push(buffer);\n",
              "            downloaded += buffer.byteLength;\n",
              "            progress.value = downloaded;\n",
              "          }\n",
              "        }\n",
              "      }\n",
              "      const blob = new Blob(buffers, {type: 'application/binary'});\n",
              "      const a = document.createElement('a');\n",
              "      a.href = window.URL.createObjectURL(blob);\n",
              "      a.download = filename;\n",
              "      div.appendChild(a);\n",
              "      a.click();\n",
              "      div.remove();\n",
              "    }\n",
              "  "
            ]
          },
          "metadata": {}
        },
        {
          "output_type": "display_data",
          "data": {
            "text/plain": [
              "<IPython.core.display.Javascript object>"
            ],
            "application/javascript": [
              "download(\"download_46dd9255-badb-41b4-b923-5b1361ef01f1\", \"output.csv\", 1572)"
            ]
          },
          "metadata": {}
        }
      ]
    },
    {
      "cell_type": "code",
      "source": [
        "len(res.columns)"
      ],
      "metadata": {
        "colab": {
          "base_uri": "https://localhost:8080/"
        },
        "id": "DDp1gVmySra2",
        "outputId": "dc1de547-3862-4afc-b5cd-2e5a5c72ec30"
      },
      "execution_count": 80,
      "outputs": [
        {
          "output_type": "execute_result",
          "data": {
            "text/plain": [
              "51"
            ]
          },
          "metadata": {},
          "execution_count": 80
        }
      ]
    },
    {
      "cell_type": "code",
      "source": [
        "for a in range(len(df['Bristle_Type  '])):\n",
        "  if df['Bristle_Type  '][a] == 'SOFT':\n",
        "    df['Bristle_Type  '][a] = 0\n",
        "  elif df['Bristle_Type  '][a] == 'MEDIUM':\n",
        "    df['Bristle_Type  '][a] = 1\n",
        "  elif df['Bristle_Type  '][a] == 'MIXED':\n",
        "    df['Bristle_Type  '][a] = 2\n",
        "  elif df['Bristle_Type  '][a] == 'HARD':\n",
        "    df['Bristle_Type  '][a] = 3"
      ],
      "metadata": {
        "id": "T7Azg4xQLG0e"
      },
      "execution_count": null,
      "outputs": []
    },
    {
      "cell_type": "code",
      "source": [
        "for i in range(4, len(df.columns.values)):\n",
        "  df.iloc[:, i] = pd.to_numeric(df.iloc[:, i])"
      ],
      "metadata": {
        "id": "6XW2Ste-RqOa"
      },
      "execution_count": null,
      "outputs": []
    },
    {
      "cell_type": "code",
      "source": [
        "df['Bristle_Type  '].value_counts()"
      ],
      "metadata": {
        "colab": {
          "base_uri": "https://localhost:8080/"
        },
        "id": "JRQk5ool0s8E",
        "outputId": "6b9a5778-a634-433e-d492-1ffe7e45d130"
      },
      "execution_count": null,
      "outputs": [
        {
          "output_type": "execute_result",
          "data": {
            "text/plain": [
              "1    2783\n",
              "0    2466\n",
              "3     274\n",
              "2      78\n",
              "Name: Bristle_Type  , dtype: int64"
            ]
          },
          "metadata": {},
          "execution_count": 32
        }
      ]
    },
    {
      "cell_type": "code",
      "source": [
        "prices = df.iloc[:, -20]\n",
        "#prices.replace(0, np.nan, inplace=True)\n",
        "#prices = prices.mean(axis=1)\n",
        "share = df.iloc[:, -20+5]\n",
        "#share.replace(0, np.nan, inplace=True)\n",
        "#share = share.mean(axis=1)\n",
        "#share.replace(np.nan, 0, inplace=True)\n",
        "\n",
        "result = pd.DataFrame([share, prices]).T\n",
        "\n",
        "for i in range(len(result[result.columns[0]])):\n",
        "    if result[result.columns[0]][i] == 0 or result[result.columns[1]][i] == 0:\n",
        "      result = result.drop(i)\n",
        "\n",
        "corr = result.corr()\n",
        "corr.style.background_gradient(cmap='coolwarm')"
      ],
      "metadata": {
        "colab": {
          "base_uri": "https://localhost:8080/",
          "height": 111
        },
        "id": "XOfeqxmCx7Fc",
        "outputId": "3efa783e-2ac8-4ec5-b786-63204bc79c67"
      },
      "execution_count": null,
      "outputs": [
        {
          "output_type": "execute_result",
          "data": {
            "text/plain": [
              "<pandas.io.formats.style.Styler at 0x7f7982610160>"
            ],
            "text/html": [
              "<style type=\"text/css\">\n",
              "#T_5b8b5_row0_col0, #T_5b8b5_row1_col1 {\n",
              "  background-color: #b40426;\n",
              "  color: #f1f1f1;\n",
              "}\n",
              "#T_5b8b5_row0_col1, #T_5b8b5_row1_col0 {\n",
              "  background-color: #3b4cc0;\n",
              "  color: #f1f1f1;\n",
              "}\n",
              "</style>\n",
              "<table id=\"T_5b8b5\" class=\"dataframe\">\n",
              "  <thead>\n",
              "    <tr>\n",
              "      <th class=\"blank level0\" >&nbsp;</th>\n",
              "      <th id=\"T_5b8b5_level0_col0\" class=\"col_heading level0 col0\" >JAN-JUN 2020.6</th>\n",
              "      <th id=\"T_5b8b5_level0_col1\" class=\"col_heading level0 col1\" >JAN-JUN 2020.5</th>\n",
              "    </tr>\n",
              "  </thead>\n",
              "  <tbody>\n",
              "    <tr>\n",
              "      <th id=\"T_5b8b5_level0_row0\" class=\"row_heading level0 row0\" >JAN-JUN 2020.6</th>\n",
              "      <td id=\"T_5b8b5_row0_col0\" class=\"data row0 col0\" >1.000000</td>\n",
              "      <td id=\"T_5b8b5_row0_col1\" class=\"data row0 col1\" >0.248053</td>\n",
              "    </tr>\n",
              "    <tr>\n",
              "      <th id=\"T_5b8b5_level0_row1\" class=\"row_heading level0 row1\" >JAN-JUN 2020.5</th>\n",
              "      <td id=\"T_5b8b5_row1_col0\" class=\"data row1 col0\" >0.248053</td>\n",
              "      <td id=\"T_5b8b5_row1_col1\" class=\"data row1 col1\" >1.000000</td>\n",
              "    </tr>\n",
              "  </tbody>\n",
              "</table>\n"
            ]
          },
          "metadata": {},
          "execution_count": 104
        }
      ]
    },
    {
      "cell_type": "code",
      "source": [
        "#for i in range(-20, -15):\n",
        "\n",
        "  prices = df.iloc[:, -20]\n",
        "  prices.replace(0, np.nan, inplace=True)\n",
        "  #prices = prices.mean(axis=1)\n",
        "\n",
        "  share = df.iloc[:, -20+5]\n",
        "  share.replace(0, np.nan, inplace=True)\n",
        "  #share = share.mean(axis=1)\n",
        "  share.replace(np.nan, 0, inplace=True)\n",
        "\n",
        "  result = pd.DataFrame([share, prices]).T\n",
        "\n",
        "  for i in range(len(result[0])):\n",
        "      if result[0].index[i] == 0:\n",
        "        result = result.drop(result.index(i))\n",
        "\n",
        "  corr = result.corr()\n",
        "  corr.style.background_gradient(cmap='coolwarm')"
      ],
      "metadata": {
        "id": "qp8PWo-HVi4I",
        "colab": {
          "base_uri": "https://localhost:8080/",
          "height": 134
        },
        "outputId": "9a831a8a-7713-4803-dee2-dfc2d8e34fd8"
      },
      "execution_count": null,
      "outputs": [
        {
          "output_type": "error",
          "ename": "IndentationError",
          "evalue": "ignored",
          "traceback": [
            "\u001b[0;36m  File \u001b[0;32m\"<ipython-input-16-e3a5433c74fc>\"\u001b[0;36m, line \u001b[0;32m3\u001b[0m\n\u001b[0;31m    prices = df.iloc[:, -20]\u001b[0m\n\u001b[0m    ^\u001b[0m\n\u001b[0;31mIndentationError\u001b[0m\u001b[0;31m:\u001b[0m unexpected indent\n"
          ]
        }
      ]
    },
    {
      "cell_type": "code",
      "source": [
        "import matplotlib.pyplot as plt"
      ],
      "metadata": {
        "id": "VxDJ1pUaDz1F"
      },
      "execution_count": null,
      "outputs": []
    },
    {
      "cell_type": "code",
      "source": [
        "dataFrame = []\n",
        "for name in df['Area_Hierarchy'].unique():\n",
        "  mask = df['Area_Hierarchy'] == name\n",
        "  masked = df.loc[mask]\n",
        "  dataFrame.append(masked['Target_User'].value_counts())"
      ],
      "metadata": {
        "id": "FM8La6X5aGAz"
      },
      "execution_count": null,
      "outputs": []
    },
    {
      "cell_type": "code",
      "source": [
        "import matplotlib.pyplot as plt\n",
        "\n",
        "terms = df['Area_Hierarchy'].unique()\n",
        "\n",
        "mentions = []\n",
        "for data in df['Area_Hierarchy'].value_counts():\n",
        "  mentions.append(data)\n",
        "\n",
        "first_param = []\n",
        "second_param = []\n",
        "for data in dataFrame:\n",
        "  first_param.append(data[0])\n",
        "  second_param.append(data[1])"
      ],
      "metadata": {
        "id": "NXVP_2NPchLK"
      },
      "execution_count": null,
      "outputs": []
    },
    {
      "cell_type": "code",
      "source": [
        "first_param.sort(reverse=True)\n",
        "second_param.sort(reverse=True)"
      ],
      "metadata": {
        "id": "PEvfEXDheu2J"
      },
      "execution_count": null,
      "outputs": []
    },
    {
      "cell_type": "code",
      "source": [
        "plt.rcParams.update({'font.size': 5})\n",
        "\n",
        "fig, ax = plt.subplots()\n",
        "ax.bar(terms, first_param, color='g', label='Adults')\n",
        "ax.bar(terms, second_param, color='b', label='Kids', bottom=first_param)\n",
        "\n",
        "ax.legend()\n",
        "plt.show()"
      ],
      "metadata": {
        "colab": {
          "base_uri": "https://localhost:8080/",
          "height": 422
        },
        "id": "lvAnuoW7XSei",
        "outputId": "290a6969-4f28-4c8d-f04d-93e9c7a2fb85"
      },
      "execution_count": null,
      "outputs": [
        {
          "output_type": "display_data",
          "data": {
            "text/plain": [
              "<Figure size 640x480 with 1 Axes>"
            ],
            "image/png": "[encoded data removed]"
          },
          "metadata": {}
        }
      ]
    },
    {
      "cell_type": "code",
      "source": [
        "dataFrame = []\n",
        "names = []\n",
        "for name in df['Area_Hierarchy'].unique():\n",
        "  mask = df['Area_Hierarchy'] == name\n",
        "  masked = df.loc[mask]\n",
        "  dataFrame.append(list(masked['Subbrand'].value_counts()))\n",
        "  names.append(masked['Subbrand'].unique())"
      ],
      "metadata": {
        "id": "MTJjCFGnwp-y"
      },
      "execution_count": null,
      "outputs": []
    },
    {
      "cell_type": "code",
      "source": [
        "import matplotlib.pyplot as plt\n",
        "\n",
        "terms = df['Area_Hierarchy'].unique()\n",
        "\n",
        "mentions = []\n",
        "for data in df['Area_Hierarchy'].value_counts():\n",
        "  mentions.append(data)\n",
        "\n",
        "params = []\n",
        "for data in dataFrame:\n",
        "  params.append(data)"
      ],
      "metadata": {
        "id": "z5Kr44giw3ET"
      },
      "execution_count": null,
      "outputs": []
    },
    {
      "cell_type": "code",
      "source": [
        "completed_data = []\n",
        "\n",
        "for i in range(273):\n",
        "  temp = []\n",
        "  for j in range(5):\n",
        "    if (len(dataFrame[j]) <= i): \n",
        "      temp.append(0)\n",
        "      continue\n",
        "    temp.append(dataFrame[j][i])\n",
        "  completed_data.append(temp)"
      ],
      "metadata": {
        "id": "ZhCe5bnL0ZYW"
      },
      "execution_count": null,
      "outputs": []
    },
    {
      "cell_type": "code",
      "source": [
        "completed_names = []\n",
        "\n",
        "for i in range(273):\n",
        "  temp = []\n",
        "  for j in range(5):\n",
        "    if (len(names[j]) <= i): \n",
        "      temp.append(\"null\")\n",
        "      continue\n",
        "    temp.append(names[j][i])\n",
        "  completed_names.append(temp)"
      ],
      "metadata": {
        "id": "SWAm_ZxW3xR2"
      },
      "execution_count": null,
      "outputs": []
    },
    {
      "cell_type": "code",
      "source": [
        "completed_data.sort(reverse=True)\n",
        "completed_names.sort(reverse=True)"
      ],
      "metadata": {
        "id": "EE_MMFx96h5J"
      },
      "execution_count": null,
      "outputs": []
    },
    {
      "cell_type": "code",
      "source": [
        "completed_data[0]"
      ],
      "metadata": {
        "colab": {
          "base_uri": "https://localhost:8080/"
        },
        "id": "fNXHHv0Z7Bnn",
        "outputId": "0d6e0043-24cb-457c-f47c-fae2c74446a0"
      },
      "execution_count": null,
      "outputs": [
        {
          "output_type": "execute_result",
          "data": {
            "text/plain": [
              "[1135, 810, 538, 437, 361]"
            ]
          },
          "metadata": {},
          "execution_count": 155
        }
      ]
    },
    {
      "cell_type": "code",
      "source": [
        "completed_names[0]"
      ],
      "metadata": {
        "colab": {
          "base_uri": "https://localhost:8080/"
        },
        "id": "sFcmqSGO7C1m",
        "outputId": "632714e9-23ea-4968-ba41-3c60bff9523b"
      },
      "execution_count": null,
      "outputs": [
        {
          "output_type": "execute_result",
          "data": {
            "text/plain": [
              "['ZIGZAG CHARCOAL',\n",
              " '3D WHITE LUX PRO-FLEX',\n",
              " '3D WHITE WHITENING BLACK',\n",
              " 'CARIES PROTECTION',\n",
              " 'FORTE EXPERT']"
            ]
          },
          "metadata": {},
          "execution_count": 156
        }
      ]
    }
  ]
}